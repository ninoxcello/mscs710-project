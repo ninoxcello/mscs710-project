{
 "cells": [
  {
   "cell_type": "code",
   "execution_count": 1,
   "metadata": {},
   "outputs": [
    {
     "name": "stderr",
     "output_type": "stream",
     "text": [
      "Using TensorFlow backend.\n",
      "/Library/Frameworks/Python.framework/Versions/3.6/lib/python3.6/site-packages/sklearn/cross_validation.py:41: DeprecationWarning: This module was deprecated in version 0.18 in favor of the model_selection module into which all the refactored classes and functions are moved. Also note that the interface of the new CV iterators are different from that of this module. This module will be removed in 0.20.\n",
      "  \"This module will be removed in 0.20.\", DeprecationWarning)\n",
      "/Library/Frameworks/Python.framework/Versions/3.6/lib/python3.6/site-packages/matplotlib/cbook.py:136: MatplotlibDeprecationWarning: The finance module has been deprecated in mpl 2.0 and will be removed in mpl 2.2. Please use the module mpl_finance instead.\n",
      "  warnings.warn(message, mplDeprecation, stacklevel=1)\n"
     ]
    }
   ],
   "source": [
    "import datetime\n",
    "import math\n",
    "import numpy as np \n",
    "import pandas as pd \n",
    "import matplotlib.pyplot as plt\n",
    "import seaborn as sns\n",
    "import pickle\n",
    "import warnings \n",
    "from matplotlib import style\n",
    "from subprocess import check_output\n",
    "\n",
    "import models\n",
    "import utils\n",
    "import visuals\n",
    "\n",
    "warnings.filterwarnings(\"ignore\")\n",
    "style.use('ggplot')\n",
    "%matplotlib inline\n",
    "plt.rcParams['figure.figsize'] = (12.0, 8.0)"
   ]
  },
  {
   "cell_type": "code",
   "execution_count": 2,
   "metadata": {},
   "outputs": [
    {
     "name": "stdout",
     "output_type": "stream",
     "text": [
      "Choose a file from the following list: \n",
      "\n",
      "bitcoin_cash_price.csv\n",
      "bitcoin_dataset.csv\n",
      "bitcoin_price.csv\n",
      "bitconnect_price.csv\n",
      "dash_price.csv\n",
      "ethereum_classic_price.csv\n",
      "ethereum_dataset.csv\n",
      "ethereum_price.csv\n",
      "iota_price.csv\n",
      "litecoin_price.csv\n",
      "monero_price.csv\n",
      "nem_price.csv\n",
      "neo_price.csv\n",
      "numeraire_price.csv\n",
      "omisego_price.csv\n",
      "qtum_price.csv\n",
      "ripple_price.csv\n",
      "stratis_price.csv\n",
      "waves_price.csv\n",
      "\n"
     ]
    }
   ],
   "source": [
    "input_dir = '../input'\n",
    "print('Choose a file from the following list: \\n')\n",
    "print(check_output([\"ls\", input_dir]).decode(\"utf8\"))"
   ]
  },
  {
   "cell_type": "code",
   "execution_count": 3,
   "metadata": {},
   "outputs": [
    {
     "name": "stdout",
     "output_type": "stream",
     "text": [
      "Enter Currency File Name: \n",
      "---------------------------------------\n",
      "1260 training samples.\n",
      "316 test samples.\n",
      "Predicting 16 days\n",
      "Train sample shape:  (1260, 6)\n",
      "Test sample shape:  (316, 6)\n",
      "Train label shape: (1260,)\n",
      "Test label shape: (316,)\n"
     ]
    }
   ],
   "source": [
    "print('Enter Currency File Name: ')\n",
    "# name = input()\n",
    "name = 'bitcoin_price.csv'\n",
    "\n",
    "x_train, x_test, x_recent, y_train, y_test, df = utils.load_data(input_dir, name)\n",
    "print('---------------------------------------')\n",
    "print(x_train.shape[0], 'training samples.' )\n",
    "print(x_test.shape[0], 'test samples.' )\n",
    "print('Predicting {} days'.format(x_recent.shape[0]))\n",
    "print('Train sample shape: ', x_train.shape)\n",
    "print('Test sample shape: ', x_test.shape)\n",
    "print('Train label shape:', y_train.shape)\n",
    "print('Test label shape:', y_test.shape)"
   ]
  },
  {
   "cell_type": "code",
   "execution_count": null,
   "metadata": {
    "collapsed": true,
    "scrolled": true
   },
   "outputs": [],
   "source": [
    "\"\"\"\n",
    "Choose model type:\n",
    "1. Linear Regression\n",
    "2. Support Vector Regression\n",
    "3. Multilayer Perceptron\n",
    "\"\"\"\n",
    "print('Choose Model: [1]LinearRegression [2]SVR [3]MLP\\n')\n",
    "choice = int(input())\n",
    "# choice = 3\n",
    "\n",
    "if choice == 1: \n",
    "    model = models.LR(x_train, y_train, x_test, y_test, x_recent)\n",
    "    print('Linear Regression model selected.\\n')\n",
    "elif choice == 2:\n",
    "    model = models.SVR(x_train, y_train, x_test, y_test, x_recent)\n",
    "    print('Support Vector Regression model selected.\\n')\n",
    "elif choice == 3:\n",
    "    model = models.MLP(x_train, y_train, x_test, y_test, x_recent)\n",
    "    model.build()\n",
    "    print('Multilayer Perceptron model selected.\\n')\n",
    "\n",
    "\"\"\" \n",
    "Choose operation type:\n",
    "1. Train the model on training set\n",
    "2. Evaluate metric on test set\n",
    "3. Forecast prediction \n",
    "\"\"\"\n",
    "print('Choose op: [1]Train, [2]Test, [3]Predict.\\n')\n",
    "op = int(input())\n",
    "# op = 3\n",
    "\n",
    "if op == 1:\n",
    "    print('Training initiated...\\n')\n",
    "    model.train()\n",
    "elif op == 2:\n",
    "    print('Evaluating model on test data...\\n')\n",
    "    model.test()\n",
    "elif op == 3:\n",
    "    print('Predicting future values...\\n')\n",
    "    preds = model.predict()\n",
    "    print('Forecast Plot')\n",
    "    utils.forecast_plot(df, preds)"
   ]
  },
  {
   "cell_type": "code",
   "execution_count": null,
   "metadata": {
    "collapsed": true
   },
   "outputs": [],
   "source": [
    "# Visualization\n",
    "currencies = visuals.load()"
   ]
  },
  {
   "cell_type": "code",
   "execution_count": 4,
   "metadata": {
    "collapsed": true
   },
   "outputs": [],
   "source": [
    "# Target currency type and target feature(s)\n",
    "\n",
    "coin_type = 'bitcoin'\n",
    "coin_feat = ['Close']"
   ]
  },
  {
   "cell_type": "code",
   "execution_count": 6,
   "metadata": {},
   "outputs": [
    {
     "name": "stdout",
     "output_type": "stream",
     "text": [
      "Choose Graph Type: [1]Trend Curve [2]Candlestick [3]Correlation Map\n",
      "3\n",
      "Choose correlation type: [1]Spearman [2]Pearson [3]Kendall\n",
      "1\n"
     ]
    },
    {
     "data": {
      "image/png": "[encoded data removed]",
      "text/plain": [
       "<matplotlib.figure.Figure at 0x1053e74e0>"
      ]
     },
     "metadata": {},
     "output_type": "display_data"
    }
   ],
   "source": [
    "print('Choose Graph Type: [1]Trend Curve [2]Candlestick [3]Correlation Map')\n",
    "choice = int(input())\n",
    "if choice == 1:\n",
    "    visuals.plot_trend(currencies, coin_type, coin_feat)\n",
    "elif choice == 2:\n",
    "    visuals.plot_candlestick(currencies, coin_type, coin_feat)\n",
    "elif choice == 3:\n",
    "    print('Choose correlation type: [1]Spearman [2]Pearson [3]Kendall')\n",
    "    corr_choice = int(input())\n",
    "    if choice == 1:\n",
    "        visuals.plot_correlation('spearman')\n",
    "    elif choice == 2:\n",
    "        visuals.plot_correlation('pearson')\n",
    "    elif choice == 3:\n",
    "        visuals.plot_correlation('kendall')"
   ]
  },
  {
   "cell_type": "code",
   "execution_count": null,
   "metadata": {
    "collapsed": true
   },
   "outputs": [],
   "source": [
    "# Trend \n",
    "\n",
    "visuals.plot_trend(currencies, coin_type, coin_feat)"
   ]
  },
  {
   "cell_type": "code",
   "execution_count": null,
   "metadata": {
    "collapsed": true,
    "scrolled": false
   },
   "outputs": [],
   "source": [
    "# Candlestick\n",
    "visuals.plot_candlestick(currencies, coin_type, coin_feat)"
   ]
  },
  {
   "cell_type": "code",
   "execution_count": null,
   "metadata": {
    "collapsed": true
   },
   "outputs": [],
   "source": [
    "# spearman correlation\n",
    "visuals.plot_correlation()"
   ]
  },
  {
   "cell_type": "code",
   "execution_count": null,
   "metadata": {
    "collapsed": true
   },
   "outputs": [],
   "source": [
    "# pearson correlation\n",
    "visuals.plot_correlation('pearson')"
   ]
  },
  {
   "cell_type": "code",
   "execution_count": null,
   "metadata": {
    "collapsed": true,
    "scrolled": true
   },
   "outputs": [],
   "source": [
    "# kendall correlation\n",
    "visuals.plot_correlation('kendall')"
   ]
  }
 ],
 "metadata": {
  "kernelspec": {
   "display_name": "Python 3",
   "language": "python",
   "name": "python3"
  },
  "language_info": {
   "codemirror_mode": {
    "name": "ipython",
    "version": 3
   },
   "file_extension": ".py",
   "mimetype": "text/x-python",
   "name": "python",
   "nbconvert_exporter": "python",
   "pygments_lexer": "ipython3",
   "version": "3.6.1"
  }
 },
 "nbformat": 4,
 "nbformat_minor": 2
}
